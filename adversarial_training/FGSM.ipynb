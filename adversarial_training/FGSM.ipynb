{
 "cells": [
  {
   "cell_type": "code",
   "execution_count": null,
   "id": "bb65205c-eb0c-4a35-a58b-99ed2cdf9090",
   "metadata": {},
   "outputs": [],
   "source": [
    "# Tutorial: https://pytorch.org/tutorials/beginner/fgsm_tutorial.html\n",
    "# FGSM: perturbed_image=image+epsilon∗sign(data_grad)=x+ϵ∗sign(∇ J(θ,x,y))"
   ]
  },
  {
   "cell_type": "code",
   "execution_count": 39,
   "id": "dff8850b-9e6b-4f69-b709-02dd41ea8fd9",
   "metadata": {},
   "outputs": [],
   "source": [
    "# import\n",
    "import torch\n",
    "import wandb\n",
    "from fastai.callback.wandb import WandbCallback\n",
    "from fastai.data.all import (\n",
    "    CategoryBlock,\n",
    "    DataBlock,\n",
    "    DataLoaders,\n",
    "    RandomSplitter,\n",
    "    RegressionBlock,\n",
    ")\n",
    "\n",
    "from fastai.vision.all import *\n",
    "from fastai.losses import CrossEntropyLossFlat\n",
    "from fastai.vision.data import ImageBlock, ImageDataLoaders\n",
    "# from fastai.vision.learner import Learner, accuracy, vision_learner\n",
    "# from fastai.vision.models import resnet18, resnet34\n",
    "from fastai.vision.utils import get_image_files\n",
    "from torch import nn\n",
    "import torch.optim as optim\n",
    "from torchvision import datasets, transforms\n",
    "import numpy as np\n",
    "import matplotlib.pyplot as plt\n",
    "from functools import partial\n",
    "from math import radians"
   ]
  },
  {
   "cell_type": "code",
   "execution_count": 24,
   "id": "0fb2d268-8583-468d-8fa8-1f7edd88739e",
   "metadata": {},
   "outputs": [
    {
     "data": {
      "text/plain": [
       "'2.7.11'"
      ]
     },
     "execution_count": 24,
     "metadata": {},
     "output_type": "execute_result"
    }
   ],
   "source": [
    "fastai.__version__"
   ]
  },
  {
   "cell_type": "code",
   "execution_count": 25,
   "id": "1638a92a-a54d-4ee7-a2a6-29847aac2017",
   "metadata": {},
   "outputs": [
    {
     "data": {
      "text/plain": [
       "device(type='cuda', index=0)"
      ]
     },
     "execution_count": 25,
     "metadata": {},
     "output_type": "execute_result"
    }
   ],
   "source": [
    "device = torch.device(0)\n",
    "device"
   ]
  },
  {
   "cell_type": "code",
   "execution_count": 51,
   "id": "a8c05ea0-1b42-4664-8dc6-91c299bbd460",
   "metadata": {},
   "outputs": [],
   "source": [
    "# get data\n",
    "data_folder = \"/data/clark/scr2023/data/WanderingStaticTextures/\"\n",
    "# get model\n",
    "models_folder = \"/data/clark/scr2023/data/WanderingStaticTextures/models/\"\n",
    "model_name = \"wandering-static_rep00.pkl\""
   ]
  },
  {
   "cell_type": "code",
   "execution_count": 52,
   "id": "f6b0d99e-be62-4df4-9680-6286bcd34fd6",
   "metadata": {},
   "outputs": [],
   "source": [
    "learner = load_learner(models_folder + model_name, cpu=False)"
   ]
  },
  {
   "cell_type": "code",
   "execution_count": 30,
   "id": "266f6aee-95ea-498c-819d-ab584b55b7f0",
   "metadata": {},
   "outputs": [],
   "source": [
    "epsilons = [0, .05, .1, .15, .2, .25, .3]"
   ]
  },
  {
   "cell_type": "code",
   "execution_count": 72,
   "id": "9034d365-2f59-48b1-81aa-a8c59dbd1435",
   "metadata": {},
   "outputs": [],
   "source": [
    "def y_from_filename(rotation_threshold, filename) -> str:\n",
    "    \"\"\"Extracts the direction label from the filename of an image.\n",
    "\n",
    "    Example: \"path/to/file/001_000011_-1p50.png\" --> \"right\"\n",
    "    \"\"\"\n",
    "    filename_stem = Path(filename).stem\n",
    "    angle = float(filename_stem.split(\"_\")[2].replace(\"p\", \".\"))\n",
    "\n",
    "    if angle > rotation_threshold:\n",
    "        return \"left\"\n",
    "    elif angle < -rotation_threshold:\n",
    "        return \"right\"\n",
    "    else:\n",
    "        return \"forward\"\n",
    "        \n",
    "def get_dls(data_path: str):\n",
    "    # NOTE: not allowed to add a type annotation to the input\n",
    "\n",
    "    image_filenames: list = get_image_files(data_path)  # type:ignore\n",
    "\n",
    "    # Using a partial function to set the rotation_threshold from args\n",
    "    label_func = partial(y_from_filename, radians(5))\n",
    "\n",
    "    return ImageDataLoaders.from_name_func(\n",
    "            data_path,\n",
    "            image_filenames,\n",
    "            label_func,\n",
    "            valid_pct=0,\n",
    "            shuffle=True,\n",
    "            bs=1)"
   ]
  },
  {
   "cell_type": "code",
   "execution_count": 73,
   "id": "eb49d87b-01d2-4fca-bc0b-c763dbac103a",
   "metadata": {},
   "outputs": [],
   "source": [
    "# FGSM attack code\n",
    "def fgsm_attack(image, epsilon, data_grad):\n",
    "    # Collect the element-wise sign of the data gradient\n",
    "    sign_data_grad = data_grad.sign()\n",
    "    # Create the perturbed image by adjusting each pixel of the input image\n",
    "    perturbed_image = image + epsilon*sign_data_grad\n",
    "    # Adding clipping to maintain [0,1] range\n",
    "    perturbed_image = torch.clamp(perturbed_image, 0, 1)\n",
    "    # Return the perturbed image\n",
    "    return perturbed_image"
   ]
  },
  {
   "cell_type": "code",
   "execution_count": 74,
   "id": "5f89a89f-c4f5-4fc0-9696-8445f088d47d",
   "metadata": {},
   "outputs": [],
   "source": [
    "def test(model, test_loader, epsilon):\n",
    "    \n",
    "    # Accuracy counter\n",
    "    correct = 0\n",
    "    adv_examples = []\n",
    "\n",
    "    # Loop over all examples in test set\n",
    "    for data, target in test_loader:\n",
    "\n",
    "        # Set requires_grad attribute of tensor. Important for Attack\n",
    "        data.requires_grad = True\n",
    "\n",
    "        # Forward pass the data through the model\n",
    "        output = model.predict(data)\n",
    "        init_pred = output.max(1, keepdim=True)[1] # get the index of the max log-probability\n",
    "        print(output + \" init_pred:\" + init_pred)\n",
    "\n",
    "        # If the initial prediction is wrong, don't bother attacking, just move on\n",
    "        if init_pred.item() != target.item():\n",
    "            continue\n",
    "\n",
    "        # Calculate the loss\n",
    "        loss = CrossEntropyLossFlat(output, target)\n",
    "        print(loss)\n",
    "\n",
    "        # Zero all existing gradients\n",
    "        model.zero_grad()\n",
    "\n",
    "        # Calculate gradients of model in backward pass\n",
    "        loss.backward()\n",
    "\n",
    "        # Collect ``datagrad``\n",
    "        data_grad = data.grad.data\n",
    "\n",
    "        # Call FGSM Attack\n",
    "        perturbed_data = fgsm_attack(data, epsilon, data_grad)\n",
    "\n",
    "        # Re-classify the perturbed image\n",
    "        output = model(perturbed_data)\n",
    "\n",
    "        # Check for success\n",
    "        final_pred = output.max(1, keepdim=True)[1] # get the index of the max log-probability\n",
    "        if final_pred.item() == target.item():\n",
    "            correct += 1\n",
    "            # Special case for saving 0 epsilon examples\n",
    "            if epsilon == 0 and len(adv_examples) < 5:\n",
    "                adv_ex = perturbed_data.squeeze().detach().cpu().numpy()\n",
    "                adv_examples.append( (init_pred.item(), final_pred.item(), adv_ex) )\n",
    "        else:\n",
    "            print(\"adversarial example generated\")\n",
    "            # Save some adv examples for visualization later\n",
    "            if len(adv_examples) < 5:\n",
    "                adv_ex = perturbed_data.squeeze().detach().cpu().numpy()\n",
    "                adv_examples.append( (init_pred.item(), final_pred.item(), adv_ex) )\n",
    "\n",
    "    # Calculate final accuracy for this epsilon\n",
    "    final_acc = correct/float(len(test_loader))\n",
    "    print(f\"Epsilon: {epsilon}\\tTest Accuracy = {correct} / {len(test_loader)} = {final_acc}\")\n",
    "\n",
    "    # Return the accuracy and an adversarial example\n",
    "    return final_acc, adv_examples"
   ]
  },
  {
   "cell_type": "code",
   "execution_count": null,
   "id": "0cc3ec80-5443-49a3-bca0-382c21d126c0",
   "metadata": {},
   "outputs": [],
   "source": [
    "accuracies = []\n",
    "examples = []\n",
    "\n",
    "test_loader = get_dls(data_folder).train\n",
    "\n",
    "# Run test for each epsilon\n",
    "for eps in epsilons:\n",
    "    acc, ex = test(learner, test_loader, eps)\n",
    "    accuracies.append(acc)\n",
    "    examples.append(ex)"
   ]
  },
  {
   "cell_type": "code",
   "execution_count": null,
   "id": "51f6a2d3-047c-4190-bfdd-8a95cda289c9",
   "metadata": {},
   "outputs": [],
   "source": [
    "# Plot several examples of adversarial samples at each epsilon\n",
    "cnt = 0\n",
    "plt.figure(figsize=(8,10))\n",
    "for i in range(len(epsilons)):\n",
    "    for j in range(len(examples[i])):\n",
    "        cnt += 1\n",
    "        plt.subplot(len(epsilons),len(examples[0]),cnt)\n",
    "        plt.xticks([], [])\n",
    "        plt.yticks([], [])\n",
    "        if j == 0:\n",
    "            plt.ylabel(f\"Eps: {epsilons[i]}\", fontsize=14)\n",
    "        orig,adv,ex = examples[i][j]\n",
    "        plt.title(f\"{orig} -> {adv}\")\n",
    "        plt.imshow(ex, cmap=\"gray\")\n",
    "plt.tight_layout()\n",
    "plt.show()"
   ]
  },
  {
   "cell_type": "code",
   "execution_count": null,
   "id": "66266727-89d2-48fb-b8d6-71847f7b1f02",
   "metadata": {},
   "outputs": [],
   "source": [
    "run = wandb.init(\n",
    "    name=args.name,\n",
    "    project=\"DataAugmentation\",\n",
    "    entity=\"arcslaboratory\",\n",
    "    notes=\"Training models with adversarial training\",\n",
    "    job_type=\"train\",\n",
    ")\n",
    "\n",
    "if run is None:\n",
    "    raise Exception(\"wandb.init() failed\")"
   ]
  }
 ],
 "metadata": {
  "kernelspec": {
   "display_name": "Python 3 (ipykernel)",
   "language": "python",
   "name": "python3"
  },
  "language_info": {
   "codemirror_mode": {
    "name": "ipython",
    "version": 3
   },
   "file_extension": ".py",
   "mimetype": "text/x-python",
   "name": "python",
   "nbconvert_exporter": "python",
   "pygments_lexer": "ipython3",
   "version": "3.10.12"
  }
 },
 "nbformat": 4,
 "nbformat_minor": 5
}
